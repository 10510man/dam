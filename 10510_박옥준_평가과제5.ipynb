{
  "nbformat": 4,
  "nbformat_minor": 0,
  "metadata": {
    "colab": {
      "name": "10510_박옥준_평가과제5",
      "provenance": [],
      "authorship_tag": "ABX9TyM8eo1F4DlXc0TTzpdAXwXE"
    },
    "kernelspec": {
      "name": "python3",
      "display_name": "Python 3"
    },
    "language_info": {
      "name": "python"
    }
  },
  "cells": [
    {
      "cell_type": "code",
      "execution_count": 16,
      "metadata": {
        "colab": {
          "base_uri": "https://localhost:8080/"
        },
        "id": "YvUbu0ntc15H",
        "outputId": "7b4d54b5-3306-4f68-a7e6-bb7d5450b647"
      },
      "outputs": [
        {
          "output_type": "stream",
          "name": "stdout",
          "text": [
            "1~100까지의 숫자(정수) 중 컴퓨터가 생각한 숫자를 맞혀보세요.\n",
            "기회는 6번 입니다.\n",
            "숫자는 무엇일까요?\n",
            "12\n",
            "컴퓨터가 생각한 숫자가 더 큽니다.\n",
            "\n",
            "숫자는 무엇일까요?\n",
            "60\n",
            "컴퓨터가 생각한 숫자가 더 작습니다.\n",
            "\n",
            "숫자는 무엇일까요?\n",
            "30\n",
            "컴퓨터가 생각한 숫자가 더 작습니다.\n",
            "\n",
            "숫자는 무엇일까요?\n",
            "20\n",
            "컴퓨터가 생각한 숫자가 더 큽니다.\n",
            "\n",
            "숫자는 무엇일까요?\n",
            "25\n",
            "정답입니다.\n",
            "4 번 만에 답을 맞혔습니다.\n"
          ]
        }
      ],
      "source": [
        "import random\n",
        "print('1~100까지의 숫자(정수) 중 컴퓨터가 생각한 숫자를 맞혀보세요.')\n",
        "print('기회는 6번 입니다.')\n",
        "number =  random.randint(1,101)\n",
        "for i in range(6):\n",
        "    guess = int(input('숫자는 무엇일까요?\\n'))\n",
        "    if number > guess:\n",
        "        print('컴퓨터가 생각한 숫자가 더 큽니다.\\n')\n",
        "    elif number < guess:\n",
        "        print('컴퓨터가 생각한 숫자가 더 작습니다.\\n')\n",
        "    else:\n",
        "        print('정답입니다.')\n",
        "        print(i,'번 만에 답을 맞혔습니다.')\n",
        "        break\n",
        "if i == 5:\n",
        "    print('실패! 컴퓨터가 생각한 숫자는', number,'입니다.')"
      ]
    }
  ]
}